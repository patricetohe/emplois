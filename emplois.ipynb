{
 "cells": [
  {
   "cell_type": "markdown",
   "id": "e588553e",
   "metadata": {},
   "source": [
    "JE SOUHAITE QUE TU M'AIDE A REALISER CE PROJET:\n",
    "Problème (formulation percutante)\n",
    "\n",
    "Le marché de l’emploi souffre d’un paradoxe criant :\n",
    "Côté candidats : des talents qualifiés peinent à décrocher des postes correspondant à leurs compétences et aspirations. Ils se perdent dans des candidatures multiples, des processus longs, et souvent frustrants.\n",
    "Côté recruteurs : malgré des investissements massifs (publicités, ATS, cabinets de recrutement), les entreprises peinent à trouver des profils réellement adaptés, ce qui allonge les délais de recrutement et augmente les coûts.\n",
    "Ce décalage entraîne une perte de productivité, de motivation et de confiance.\n",
    "\n",
    "Proposition de valeur:\n",
    "Notre solution propose une plateforme intelligente qui agit comme un pont de précision entre talents et employeurs, en s’appuyant sur :\n",
    "Un bassin de candidats, ils pouront remplir le profil, avec toutes les informations qu'il faut connaitre sur un candidat, il peuvent remplir leur profil automatique par leur cv au format pdf,word ou txt, etc.\n",
    "Un matching par IA qui va au-delà des mots-clés pour comprendre les compétences réelles et le potentiel des candidats.\n",
    "Un agent conversationnel LLM qui simplifie la recherche pour les recruteurs.\n",
    "Des tests sécurisés et personnalisés qui garantissent l’authenticité des compétences.\n",
    "un tunel de recrutement concu par poste si le recruteur le souhaite pour aller de l'avant avec le ou les candidats qu'il aura chosi\n",
    "\n",
    "je veux qu'on bâtisse le projet etape par étape.\n",
    "pour l'instant il faut me donner l'arborescent du projet et aussi les technologies que nous devons utiliser, tu peux me faire des propositions et donner les arguments\n"
   ]
  },
  {
   "cell_type": "markdown",
   "id": "f02b8b10",
   "metadata": {},
   "source": [
    "voici les technologies qvec lesquels je souhaites qu'on travail:\n",
    "React (web) + React Native (mobile) et Gradio pour les tests\n",
    "Back-end : Django\n",
    "Matching IA: Mistral (open source) et OpenAI API gratuit pour des tests\n",
    "Moteur de scoring IA: TF/PyTorch\n",
    "Moteur de recherche sémantique: FAISS\n",
    "Base de données principale: PostgreSQL pour la gestion métier (profils, candidatures, workflows, tests)\n",
    "Recherche rapide de profils: ElasticSearch pour la recherche rapide de profils, similarité sémantique entre CVs et offres.\n",
    "Évaluations & Tests: on va integrer avec Codility et par la suite faire une solution interne\n",
    "Cloud / Infra: AWS (EC2, S3, RDS...)\n",
    "Conteneurisation: Docker + Kubernetes et Docker Compose (simple) juste pour les test  \n",
    "CI/CD: GitHub Actions\n"
   ]
  },
  {
   "cell_type": "markdown",
   "id": "ced78721",
   "metadata": {},
   "source": []
  },
  {
   "cell_type": "markdown",
   "metadata": {},
   "source": [
    "$ mkdir Emplois2/bassin_emplois/backend/django_app; mkdir Emplois2/bassin_emplois/frontend/web; mkdir Emplois2/bassin_emplois/mobile; mkdir Emplois2/bassin_emplois/search/{elasticsearch,faiss}; mkdir Emplois2/bassin_emplois/ia-services/scoring; mkdir Emplois2/bassin_emplois/demos/gradio; mkdir Emplois2/bassin_emplois/devops/k8s; mkdir Emplois2/bassin_emplois/.github/workflows"
   ]
  },
  {
   "cell_type": "markdown",
   "id": "8d5cfd25",
   "metadata": {},
   "source": [
    "Souhaitez-vous que j’initialise maintenant:\n",
    "Backend Django (projet + app de base, PostgreSQL, auth),\n",
    "Frontend React (Vite + TypeScript + MUI/Tailwind),\n",
    "Mobile React Native (Expo),\n",
    "Un demo Gradio minimal pour le parsing CV et scoring,\n",
    "Ou la CI/CD GitHub Actions (lint/build/test) ?\n",
    "\n"
   ]
  },
  {
   "cell_type": "markdown",
   "id": "0b481ac6",
   "metadata": {},
   "source": [
    "$ cd 'Emplois2/bassin_emplois/backend/django_app'; py -m venv .venv; .\\.venv\\Scripts\\python -m pip install --upgrade pip; .\\.venv\\Scripts\\pip install django djangorestframework psycopg2-binary django-cors-headers python-dotenv; .\\.venv\\Scripts\\django-admin startproject core .; .\\.venv\\Scripts\\python manage.py startapp api\n",
    "\n",
    "--- Initialiser frontend React (Vite + TypeScript).-----\n",
    "\n",
    "cd 'Emplois2/bassin_emplois/frontend'; npm create vite@latest web -- --template react-ts --yes; cd web; npm install @mui/material @emotion/react @emotion/styled @tanstack/react-query axios zustand react-router-dom\n",
    "\n",
    "--------------------\n",
    "Je viens de terminer l'initialisation Django. Prochaine étape: je crée la démo Gradio et le workflow CI; l'initialisation frontend et mobile est bloquée car Node/npm n'est pas détecté. J'exécute maintenant la création de la démo Gradio et du fichier CI.\n",
    "----------------------\n",
    "\n",
    "$ cd 'Emplois2/bassin_emplois/demos/gradio'; py -m venv .venv; .\\.venv\\Scripts\\python -m pip install --upgrade pip; .\\.venv\\Scripts\\pip install gradio; $code = @\"\n",
    "import gradio as gr\n",
    "\n",
    "def match_demo(cv_text, job_text):\n",
    "    return f\"Score de similarité (démo): {len(set(cv_text.split()) & set(job_text.split()))}\"\n",
    "\n",
    "with gr.Blocks() as demo:\n",
    "    gr.Markdown(\"# Démo Matching IA (placeholder)\")\n",
    "    with gr.Row():\n",
    "        cv = gr.Textbox(label=\"CV (texte)\", lines=8)\n",
    "        job = gr.Textbox(label=\"Offre (texte)\", lines=8)\n",
    "    out = gr.Textbox(label=\"Score\")\n",
    "    btn = gr.Button(\"Lancer\")\n",
    "    btn.click(match_demo, [cv, job], out)\n",
    "\n",
    "if __name__ == \"__main__\":\n",
    "    demo.launch(server_name=\"0.0.0.0\", server_port=7860)\n",
    "\"@; Set-Content -Path app.py -Value $code; cd '../../../.github/workflows'; $ci = @\"\n",
    "name: CI\n",
    "\n",
    "on: [push, pull_request]\n",
    "\n",
    "jobs:\n",
    "  backend:\n",
    "    runs-on: ubuntu-latest\n",
    "    defaults:\n",
    "      run:\n",
    "        working-directory: Emplois2/bassin_emplois/backend/django_app\n",
    "    steps:\n",
    "      - uses: actions/checkout@v4\n",
    "      - uses: actions/setup-python@v5\n",
    "        with:\n",
    "          python-version: '3.11'\n",
    "      - run: python -m pip install --upgrade pip\n",
    "      - run: pip install django djangorestframework psycopg2-binary django-cors-headers python-dotenv\n",
    "      - run: python - <<'PY'\\nprint('Django CI placeholder OK')\\nPY\n",
    "  gradio:\n",
    "    runs-on: ubuntu-latest\n",
    "    defaults:\n",
    "      run:\n",
    "        working-directory: Emplois2/bassin_emplois/demos/gradio\n",
    "    steps:\n",
    "      - uses: actions/checkout@v4\n",
    "      - uses: actions/setup-python@v5\n",
    "        with:\n",
    "          python-version: '3.11'\n",
    "      - run: python -m pip install --upgrade pip\n",
    "      - run: pip install gradio\n",
    "      - run: python - <<'PY'\\nimport gradio; print('Gradio OK')\\nPY\n",
    "  frontend:\n",
    "    runs-on: ubuntu-latest\n",
    "    if: ${{ false }}\n",
    "    steps:\n",
    "      - uses: actions/checkout@v4\n",
    "\"@; Set-Content -Path ci.yml -Value $ci"
   ]
  },
  {
   "cell_type": "code",
   "execution_count": null,
   "id": "c79dc145",
   "metadata": {},
   "outputs": [],
   "source": []
  },
  {
   "cell_type": "markdown",
   "id": "ed4a9df7",
   "metadata": {},
   "source": [
    "Technologies proposées\n",
    "Voici les technologies que je suggère, avec les raisons de ces choix :\n",
    "1. Backend (API)\n",
    "Langage : Python\n",
    "Arguments : Très populaire pour le développement web et l'IA, large écosystème de bibliothèques (FastAPI, SQLAlchemy, scikit-learn, Transformers). Excellente intégration avec les services d'IA que nous allons développer.\n",
    "Framework Web : FastAPI\n",
    "Arguments : Très performant (basé sur Starlette et Pydantic), facile à apprendre, supporte la validation automatique des requêtes et réponses, génération automatique de documentation OpenAPI (Swagger UI/ReDoc). Idéal pour construire des APIs REST robustes et rapides.\n",
    "Base de données : PostgreSQL\n",
    "Arguments : Base de données relationnelle open-source, très fiable, scalable et riche en fonctionnalités. Idéale pour stocker des données structurées comme les profils utilisateurs, les offres d'emploi, les tests, etc.\n",
    "ORM (Object-Relational Mapper) : SQLAlchemy\n",
    "Arguments : ORM puissant et flexible pour Python, compatible avec PostgreSQL. Permet d'interagir avec la base de données en utilisant des objets Python, ce qui facilite le développement et la maintenance.\n",
    "Authentification/Autorisation : JWT (JSON Web Tokens) avec OAuth2\n",
    "Arguments : Standard industriel pour l'authentification. Léger et stateless, ce qui est parfait pour les APIs REST. OAuth2 pour gérer les autorisations d'accès aux ressources.\n",
    "2. Frontend (Application Web)\n",
    "Framework JavaScript : React (avec Vite)\n",
    "Arguments : React est un framework UI très populaire, flexible et performant pour construire des interfaces utilisateur interactives. Vite offre un environnement de développement ultra-rapide et un bundling optimisé.\n",
    "Langage : TypeScript (optionnel mais recommandé)\n",
    "Arguments : Apporte la typisation statique au JavaScript, ce qui réduit les erreurs, améliore la maintenabilité du code et facilite la collaboration, surtout sur des projets de taille moyenne à grande.\n",
    "Gestion d'état : Zustand ou React Query\n",
    "Arguments : Zustand est léger et simple, idéal pour gérer l'état global. React Query est excellent pour la gestion des données asynchrones (requêtes API), la mise en cache et la synchronisation avec le backend.\n",
    "Composants UI : Material-UI (MUI) ou Chakra UI\n",
    "Arguments : Ces bibliothèques fournissent des composants UI prêts à l'emploi, accessibles et personnalisables, ce qui accélère le développement et assure une cohérence visuelle.\n",
    "Styling : Tailwind CSS\n",
    "Arguments : Framework CSS utilitaire qui permet de construire des designs complexes rapidement sans quitter votre code HTML/JSX.\n",
    "3. Services d'IA\n",
    "Langage : Python\n",
    "Arguments : C'est le langage de facto pour le Machine Learning et le Traitement du Langage Naturel (NLP) grâce à son vaste écosystème de bibliothèques.\n",
    "Framework Web pour les APIs IA : FastAPI (pour une cohérence avec le backend principal)\n",
    "Arguments : Permet d'exposer facilement les modèles d'IA via des endpoints RESTful.\n",
    "Parsing de CV (CV-Parser) :\n",
    "Bibliothèques : Spacy, NLTK, pdfminer.six (pour PDF), python-docx (pour Word), regex\n",
    "Arguments : Ces outils sont robustes pour l'extraction d'entités nommées (nom, compétences, expérience, éducation) et la normalisation du texte.\n",
    "Matching par IA (Matching-Engine) :\n",
    "Bibliothèques : scikit-learn (pour les modèles traditionnels), sentence-transformers (pour les embeddings de texte), Faiss (pour la recherche de similarité vectorielle rapide).\n",
    "Arguments : Permet de créer des modèles de matching basés sur la similarité sémantique entre les profils de candidats et les descriptions de postes.\n",
    "Agent conversationnel LLM (LLM-Agent) :\n",
    "Technologie : Intégration avec des modèles LLM open-source (ex: Llama 3 via Hugging Face Transformers) ou des APIs de modèles propriétaires (OpenAI GPT, Google Gemini, Anthropic Claude).\n",
    "Frameworks : LangChain ou LlamaIndex\n",
    "Arguments : Ces frameworks facilitent la construction d'agents conversationnels complexes, la gestion de la mémoire, l'intégration d'outils et la récupération d'informations.\n",
    "4. DevOps et Déploiement\n",
    "Conteneurisation : Docker\n",
    "Arguments : Permet d'encapsuler chaque service (backend, frontend, IA) dans un environnement isolé, garantissant la reproductibilité et la facilité de déploiement.\n",
    "Orchestration locale : Docker Compose\n",
    "Arguments : Idéal pour le développement local, il permet de démarrer et gérer tous les services de l'application (backend, frontend, services IA, base de données) avec une seule commande.\n",
    "Déploiement (Cloud) : Kubernetes (via GCP, AWS, Azure) ou Heroku/Render pour un démarrage rapide\n",
    "Arguments : Kubernetes est le standard de l'industrie pour l'orchestration de conteneurs à grande échelle en production. Pour un démarrage plus rapide et une gestion simplifiée, des plateformes comme Heroku ou Render peuvent être envisagées pour les premières versions.\n",
    "Cette proposition est un point de départ. N'hésitez pas si vous avez des questions ou si vous souhaitez discuter de ces choix !\n",
    "Quelle est la prochaine étape pour vous ?\n",
    "<execute_bash>\n",
    "<tool_code>\n",
    "print(default_api.todo_write(merge = True, todos = [{\"content\": \"Définir l'arborescence du projet (structure des dossiers et fichiers).\", \"id\": \"1\", \"status\": \"completed\"}, {\"content\": \"Proposer les technologies à utiliser avec des justifications pour chaque composant.\", \"id\": \"2\", \"status\": \"completed\"}, {\"content\": \"Créer la structure des dossiers et fichiers du projet.\", \"id\": \"3\", \"status\": \"pending\"}]))\n",
    "print(default_api.run_terminal_cmd(command='mkdir backend frontend ia-services devops docs', is_background=False, explanation='Je vais créer les répertoires principaux du projet.'))\n",
    "</tool_code>"
   ]
  },
  {
   "cell_type": "markdown",
   "id": "f69133da",
   "metadata": {},
   "source": [
    "$ mkdir -p Emplois2/bassin_emplois/backend/src/{api,auth,models,services,database,utils} \\\n",
    "Emplois2/bassin_emplois/backend/{tests,config} \\\n",
    "Emplois2/bassin_emplois/frontend/{public,src/{components,pages,services,store,styles,utils},tests} \\\n",
    "Emplois2/bassin_emplois/ia-services/{cv-parser/src,matching-engine/src,llm-agent/src} \\\n",
    "Emplois2/bassin_emplois/devops \\\n",
    "Emplois2/bassin_emplois/docs"
   ]
  },
  {
   "cell_type": "markdown",
   "id": "81e7cef4",
   "metadata": {},
   "source": [
    "$ mkdir -p Emplois2/bassin_emplois/backend/src/api; mkdir -p Emplois2/bassin_emplois/backend/src/auth; mkdir -p Emplois2/bassin_emplois/backend/src/models; mkdir -p Emplois2/bassin_emplois/backend/src/services; mkdir -p Emplois2/bassin_emplois/backend/src/database; mkdir -p Emplois2/bassin_emplois/backend/src/utils; mkdir -p Emplois2/bassin_emplois/backend/tests; mkdir -p Emplois2/bassin_emplois/backend/config; mkdir -p Emplois2/bassin_emplois/frontend/public; mkdir -p Emplois2/bassin_emplois/frontend/src/components; mkdir -p Emplois2/bassin_emplois/frontend/src/pages; mkdir -p Emplois2/bassin_emplois/frontend/src/services; mkdir -p Emplois2/bassin_emplois/frontend/src/store; mkdir -p Emplois2/bassin_emplois/frontend/src/styles; mkdir -p Emplois2/bassin_emplois/frontend/src/utils; mkdir -p Emplois2/bassin_emplois/frontend/tests; mkdir -p Emplois2/bassin_emplois/ia-services/cv-parser/src; mkdir -p Emplois2/bassin_emplois/ia-services/matching-engine/src; mkdir -p Emplois2/bassin_emplois/ia-services/llm-agent/src; mkdir -p Emplois2/bassin_emplois/devops; mkdir -p Emplois2/bassin_emplois/docs"
   ]
  },
  {
   "cell_type": "code",
   "execution_count": null,
   "id": "9016629f",
   "metadata": {},
   "outputs": [],
   "source": [
    "cd 'backend/django_app'\n",
    "python -m pip install --upgrade pip\n",
    "pip install django djangorestframework\n",
    "python manage.py makemigrations\n",
    "python manage.py migrate\n",
    "python manage.py createsuperuser\n",
    "python manage.py runserver"
   ]
  },
  {
   "cell_type": "code",
   "execution_count": null,
   "id": "1a49162e",
   "metadata": {},
   "outputs": [],
   "source": [
    "Endpoints disponibles une fois le serveur lancé:\n",
    "GET http://127.0.0.1:8000/api/skills/\n",
    "GET http://127.0.0.1:8000/api/candidates/\n",
    "GET http://127.0.0.1:8000/api/job-offers/\n",
    "GET http://127.0.0.1:8000/api/applications/\n",
    "Admin: http://127.0.0.1:8000/admin/"
   ]
  },
  {
   "cell_type": "markdown",
   "id": "3c5cefab",
   "metadata": {},
   "source": [
    "Veux-tu qu'on passe maintenant à l'implémentation des services IA (matching-engine, embeddings, FAISS) ou préfères-tu d'abord tester ces endpoints ?"
   ]
  },
  {
   "cell_type": "markdown",
   "id": "32ca2d85",
   "metadata": {},
   "source": [
    "Prochaines étapes suggérées :\n",
    "Installer les dépendances : pip install PyPDF2 python-docx\n",
    "Exécuter le seed : python manage.py shell < seed_data.py\n",
    "Lancer les tests : python manage.py test\n",
    "Tester l'upload : POST /api/candidates/1/upload-resume/ avec un fichier CV\n"
   ]
  },
  {
   "cell_type": "code",
   "execution_count": 4,
   "id": "f1b7ae58",
   "metadata": {},
   "outputs": [
    {
     "name": "stdout",
     "output_type": "stream",
     "text": [
      "{'id': 5, 'file': '/media/resumes/CV_CC3vz4s.pdf', 'original_filename': 'CV.pdf', 'content_type': '', 'parsed_text': '', 'uploaded_at': '2025-10-01T22:38:34.662697Z'}\n"
     ]
    }
   ],
   "source": [
    "import requests\n",
    "\n",
    "url = \"http://127.0.0.1:8000/api/candidates/13/upload-resume/\"\n",
    "files = {\"file\": open(\"CV.pdf\", \"rb\")}\n",
    "response = requests.post(url, files=files)\n",
    "print(response.json())"
   ]
  },
  {
   "cell_type": "code",
   "execution_count": null,
   "id": "d5ea2f7e",
   "metadata": {},
   "outputs": [],
   "source": [
    "Services IA implémentés\n",
    "1. Matching Engine (ia-services/matching-engine/src/)\n",
    "embeddings_service.py : Service d'embeddings avec sentence-transformers\n",
    "faiss_store.py : Vector store FAISS pour la recherche de similarité\n",
    "matching_service.py : Service principal orchestrant embeddings + FAISS\n",
    "2. Scoring Service (ia-services/scoring/src/)\n",
    "scoring_model.py : Modèle PyTorch pour scoring de pertinence\n",
    "Features : similarité sémantique, overlap compétences, séniorité, localisation, etc.\n",
    "3. Endpoints API (backend/django_app/api/matching_views.py)\n",
    "POST /api/matching/index-candidate/ - Indexer un candidat\n",
    "POST /api/matching/index-job-offer/ - Indexer une offre\n",
    "POST /api/matching/find-candidates-for-job/ - Trouver candidats pour une offre\n",
    "POST /api/matching/find-jobs-for-candidate/ - Trouver offres pour un candidat\n",
    "POST /api/matching/batch-index-candidates/ - Indexation en lot\n",
    "GET /api/matching/stats/ - Statistiques des index\n",
    "4. Fichiers utilitaires\n",
    "ia-services/requirements.txt : Dépendances IA\n",
    "backend/django_app/test_matching.py : Script de test\n",
    "🚀 Prochaines étapes pour tester\n",
    "Installer les dépendances IA :\n",
    "Exécuter le seed (si pas encore fait) :\n",
    "Tester le matching :\n",
    "Tester les endpoints :\n",
    "Veux-tu qu'on teste maintenant le matching ou qu'on passe à l'implémentation du LLM agent pour la recherche conversationnelle ?"
   ]
  },
  {
   "cell_type": "code",
   "execution_count": null,
   "id": "1b235cdb",
   "metadata": {},
   "outputs": [],
   "source": [
    "pip install -r ia-services/requirements.txt"
   ]
  },
  {
   "cell_type": "code",
   "execution_count": null,
   "id": "3bbeafdd",
   "metadata": {},
   "outputs": [],
   "source": [
    "python manage.py shell < seed_data.py\n",
    "python manage.py shell < test_matching.py\n",
    "python manage.py shell < test_matching.py"
   ]
  },
  {
   "cell_type": "code",
   "execution_count": null,
   "id": "321b7270",
   "metadata": {},
   "outputs": [],
   "source": [
    "# Indexer un candidat\n",
    "curl -X POST http://127.0.0.1:8000/api/matching/index-candidate/ \\\n",
    "  -H \"Content-Type: application/json\" \\\n",
    "  -d '{\"candidate_id\": 1}'\n",
    "\n",
    "# Trouver candidats pour une offre\n",
    "curl -X POST http://127.0.0.1:8000/api/matching/find-candidates-for-job/ \\\n",
    "  -H \"Content-Type: application/json\" \\\n",
    "  -d '{\"job_offer_id\": 1, \"top_k\": 5}'"
   ]
  },
  {
   "cell_type": "code",
   "execution_count": 7,
   "id": "95579388",
   "metadata": {},
   "outputs": [
    {
     "ename": "SyntaxError",
     "evalue": "invalid syntax (2777644261.py, line 3)",
     "output_type": "error",
     "traceback": [
      "\u001b[1;36m  Cell \u001b[1;32mIn[7], line 3\u001b[1;36m\u001b[0m\n\u001b[1;33m    touch ia-services/matching-engine/src/__init__.py\u001b[0m\n\u001b[1;37m          ^\u001b[0m\n\u001b[1;31mSyntaxError\u001b[0m\u001b[1;31m:\u001b[0m invalid syntax\n"
     ]
    }
   ],
   "source": [
    "# import sys\n",
    "# print(sys.path)\n",
    "touch ia-services/matching-engine/src/__init__.py\n"
   ]
  },
  {
   "cell_type": "markdown",
   "id": "4ad77da1",
   "metadata": {},
   "source": []
  },
  {
   "cell_type": "code",
   "execution_count": 12,
   "id": "146bcb1f",
   "metadata": {},
   "outputs": [],
   "source": [
    "# !pip install mistralai"
   ]
  },
  {
   "cell_type": "code",
   "execution_count": 13,
   "id": "009e2db1",
   "metadata": {},
   "outputs": [],
   "source": [
    "# import os\n",
    "# from mistralai import Mistral\n",
    "\n",
    "# api_key = os.environ[\"MISTRAL_API_KEY\"]\n",
    "# model = \"mistral-large-latest\"\n",
    "\n",
    "# client = Mistral(api_key=api_key)\n",
    "\n",
    "# chat_response = client.chat.complete(\n",
    "#     model = model,\n",
    "#     messages = [\n",
    "#         {\n",
    "#             \"role\": \"user\",\n",
    "#             \"content\": \"What is the best French cheese?\",\n",
    "#         },\n",
    "#     ]\n",
    "# )\n",
    "\n",
    "# print(chat_response.choices[0].message.content)"
   ]
  }
 ],
 "metadata": {
  "kernelspec": {
   "display_name": "base",
   "language": "python",
   "name": "python3"
  },
  "language_info": {
   "codemirror_mode": {
    "name": "ipython",
    "version": 3
   },
   "file_extension": ".py",
   "mimetype": "text/x-python",
   "name": "python",
   "nbconvert_exporter": "python",
   "pygments_lexer": "ipython3",
   "version": "3.11.4"
  }
 },
 "nbformat": 4,
 "nbformat_minor": 5
}
